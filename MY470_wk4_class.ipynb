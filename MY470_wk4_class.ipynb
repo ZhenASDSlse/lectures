{
 "cells": [
  {
   "cell_type": "markdown",
   "metadata": {
    "slideshow": {
     "slide_type": "slide"
    }
   },
   "source": [
    "### MY470 Computer Programming\n",
    "# Writing and Calling Functions in Python\n",
    "### Week 4 Lab"
   ]
  },
  {
   "cell_type": "markdown",
   "metadata": {
    "slideshow": {
     "slide_type": "slide"
    }
   },
   "source": [
    "## Defining and Calling Functions\n",
    "\n",
    "### Defining a function\n",
    "\n",
    "```\n",
    "def *function_name*(*list of parameters*):\n",
    "    *body of function*\n",
    "```\n",
    "\n",
    "### Calling a function\n",
    "\n",
    "```\n",
    "*function_name*(*arguments*)\n",
    "```\n",
    "\n",
    "### Functions can take 0 or more arguments and return 1 or more values!\n",
    "\n",
    "### If a function does not have `return` statement, it returns `None`"
   ]
  },
  {
   "cell_type": "markdown",
   "metadata": {
    "slideshow": {
     "slide_type": "slide"
    }
   },
   "source": [
    "## Functions Take Arguments by Reference"
   ]
  },
  {
   "cell_type": "code",
   "execution_count": 1,
   "metadata": {
    "slideshow": {
     "slide_type": "-"
    }
   },
   "outputs": [
    {
     "name": "stdout",
     "output_type": "stream",
     "text": [
      "[1, 2, 3, 0]\n"
     ]
    }
   ],
   "source": [
    "def change_list(alist):\n",
    "    alist.append(0)\n",
    "\n",
    "mylist = [1, 2, 3]\n",
    "change_list(mylist)\n",
    "print(mylist)"
   ]
  },
  {
   "cell_type": "code",
   "execution_count": 4,
   "metadata": {
    "scrolled": true,
    "slideshow": {
     "slide_type": "fragment"
    }
   },
   "outputs": [
    {
     "name": "stdout",
     "output_type": "stream",
     "text": [
      "[0, 0, 0]\n"
     ]
    }
   ],
   "source": [
    "def zero_list(alist):\n",
    "    '''Takes a list and returns another list of the same length \n",
    "    that looks like [0, 0, 0, ...].'''\n",
    "    alist = [0]*len(alist)  # Creates a new local reference for alist\n",
    "    return(alist)\n",
    "\n",
    "mylist = [1, 2, 3]\n",
    "print(zero_list(mylist))\n",
    "#print(mylist)"
   ]
  },
  {
   "cell_type": "code",
   "execution_count": 6,
   "metadata": {
    "slideshow": {
     "slide_type": "fragment"
    }
   },
   "outputs": [
    {
     "data": {
      "text/plain": [
       "[0, 0, 0]"
      ]
     },
     "execution_count": 6,
     "metadata": {},
     "output_type": "execute_result"
    }
   ],
   "source": [
    "# Exercise 1: Rewrite the function definition and call above \n",
    "# to accomplish what the function intends to do.\n",
    "def zero_list(alist):\n",
    "    '''Takes a list and returns another list of the same length \n",
    "    that looks like [0, 0, 0, ...].'''\n",
    "    alist = [0]*len(alist)  # Creates a new local reference for alist\n",
    "    return alist\n",
    "\n",
    "mylist = [1, 2, 3]\n",
    "zero_list(mylist)\n",
    "#print(mylist)\n",
    "\n",
    "\n"
   ]
  },
  {
   "cell_type": "markdown",
   "metadata": {
    "slideshow": {
     "slide_type": "slide"
    }
   },
   "source": [
    "## Using Docstrings (String Literals) to Specify Functions\n"
   ]
  },
  {
   "cell_type": "code",
   "execution_count": 10,
   "metadata": {
    "scrolled": true,
    "slideshow": {
     "slide_type": "-"
    }
   },
   "outputs": [
    {
     "name": "stdout",
     "output_type": "stream",
     "text": [
      "Help on function f in module __main__:\n",
      "\n",
      "f(x, y)\n",
      "    Demonstrates the importance of providing specification for functions.\n",
      "    Assumes x and y any type.\n",
      "    Returns none.\n",
      "\n"
     ]
    }
   ],
   "source": [
    "def f(x, y):\n",
    "    '''Demonstrates the importance of providing specification for functions.\n",
    "    Assumes x and y any type.\n",
    "    Returns none.'''\n",
    "    pass   \n",
    "\n",
    "f(1,2)\n",
    "\n",
    "help(f)"
   ]
  },
  {
   "cell_type": "markdown",
   "metadata": {
    "slideshow": {
     "slide_type": "fragment"
    }
   },
   "source": [
    "![Commenting](figs/commenting.jpg \"Commenting\")"
   ]
  },
  {
   "cell_type": "markdown",
   "metadata": {
    "slideshow": {
     "slide_type": "slide"
    }
   },
   "source": [
    "## Using Functions Instead of Copy-Pasting Code"
   ]
  },
  {
   "cell_type": "code",
   "execution_count": 5,
   "metadata": {
    "slideshow": {
     "slide_type": "-"
    }
   },
   "outputs": [
    {
     "name": "stdout",
     "output_type": "stream",
     "text": [
      "Alan Turing was a mathematician.\n",
      "Richard Feynman was a physicist.\n",
      "Marie Curie was a chemist.\n",
      "Charles Darwin was a biologist.\n",
      "Ada Lovelace was a mathematician.\n",
      "Werner Heisenberg was a physicist.\n"
     ]
    }
   ],
   "source": [
    "# Consider the following code:\n",
    "\n",
    "# Print the name and profession of famous dead scientists:\n",
    "print('Alan Turing was a mathematician.')\n",
    "print('Richard Feynman was a physicist.')\n",
    "print('Marie Curie was a chemist.')\n",
    "print('Charles Darwin was a biologist.')\n",
    "print('Ada Lovelace was a mathematician.')\n",
    "print('Werner Heisenberg was a physicist.')"
   ]
  },
  {
   "cell_type": "code",
   "execution_count": 25,
   "metadata": {
    "slideshow": {
     "slide_type": "-"
    }
   },
   "outputs": [
    {
     "name": "stdout",
     "output_type": "stream",
     "text": [
      "Alan Turing was a mathematician.\n",
      "Richard Feynman was a physicist.\n",
      "Marie Curie was a chemist.\n",
      "Charles Darwin was a biologist.\n",
      "Ada Lovelace was a mathematician.\n",
      "Werner Heisenberg was a physicist.\n"
     ]
    }
   ],
   "source": [
    "# Exercise 2: Rewrite the code using a function and a suitable data structure.\n",
    "dicq2 = {\n",
    "    'Alan Turing': 'mathematician',\n",
    "    'Richard Feynman': 'physicist', \n",
    "    'Marie Curie': 'chemist', \n",
    "    'Charles Darwin': 'biologist', \n",
    "    'Ada Lovelace': 'mathematician', \n",
    "    'Werner Heisenberg': 'physicist'}\n",
    "\n",
    "def fs(x):\n",
    "    for key,value in x.items():          # i forgot to use .items() function!!\n",
    "        print(key + \" was a \" + value + \".\")\n",
    "    \n",
    "\n",
    "fs(dicq2)\n"
   ]
  },
  {
   "cell_type": "markdown",
   "metadata": {
    "slideshow": {
     "slide_type": "slide"
    }
   },
   "source": [
<<<<<<< HEAD
    "## Using Functions For General Cases"
   ]
  },
  {
   "cell_type": "code",
   "execution_count": 3,
   "metadata": {
    "slideshow": {
     "slide_type": "-"
    }
   },
   "outputs": [
    {
     "name": "stdout",
     "output_type": "stream",
     "text": [
      "False\n",
      "nursesrun\n",
      "True\n"
     ]
    },
    {
     "ename": "IndexError",
     "evalue": "string index out of range",
     "output_type": "error",
     "traceback": [
      "\u001b[1;31m---------------------------------------------------------------------------\u001b[0m",
      "\u001b[1;31mIndexError\u001b[0m                                Traceback (most recent call last)",
      "\u001b[1;32m<ipython-input-3-15944bef48cb>\u001b[0m in \u001b[0;36m<module>\u001b[1;34m\u001b[0m\n\u001b[0;32m     23\u001b[0m \u001b[1;33m\u001b[0m\u001b[0m\n\u001b[0;32m     24\u001b[0m \u001b[1;32mwhile\u001b[0m \u001b[0mforward_i\u001b[0m \u001b[1;33m<\u001b[0m \u001b[0mback_i\u001b[0m\u001b[1;33m:\u001b[0m\u001b[1;33m\u001b[0m\u001b[1;33m\u001b[0m\u001b[0m\n\u001b[1;32m---> 25\u001b[1;33m     \u001b[0ms3\u001b[0m\u001b[1;33m[\u001b[0m\u001b[0mforward_i\u001b[0m\u001b[1;33m]\u001b[0m \u001b[1;33m!=\u001b[0m \u001b[0ms3\u001b[0m\u001b[1;33m[\u001b[0m\u001b[0mback_i\u001b[0m\u001b[1;33m]\u001b[0m\u001b[1;33m\u001b[0m\u001b[1;33m\u001b[0m\u001b[0m\n\u001b[0m\u001b[0;32m     26\u001b[0m \u001b[1;33m\u001b[0m\u001b[0m\n\u001b[0;32m     27\u001b[0m \u001b[1;33m\u001b[0m\u001b[0m\n",
      "\u001b[1;31mIndexError\u001b[0m: string index out of range"
     ]
    }
   ],
   "source": [
    "# Exercise 3: Write a Python function that checks if a string \n",
    "# is a palindrome. A palindrome is a word or a phrase that reads \n",
    "# the same backward as forward. For example, redder, nurses run, dad...\n",
    "\n",
    "s3 = \"nurses run\"\n",
    "\n",
    "print(s3 == s3[::-1])\n",
    "\n",
    "s3 = s3.replace(' ', '')\n",
    "print(s3)\n",
    "print(s3 == s3[::-1])\n",
    "\n",
    "\n",
    "def q3(s):\n",
    "    s = s.replace(' ', '')\n",
    "    return s == s[::-1]\n",
    "q3(s3)\n",
    "\n",
    "\n",
    "\n",
    "forward_i = 0\n",
    "back_i = len(s3)\n",
    "\n",
    "while forward_i < back_i:\n",
    "    s3[forward_i] != s3[back_i]\n",
    "\n",
    "\n"
   ]
  },
  {
   "cell_type": "markdown",
   "metadata": {
    "slideshow": {
     "slide_type": "slide"
    }
   },
   "source": [
=======
>>>>>>> 244774781a2dbda8a66b7ffbc22e0dc69705b753
    "## Using Functions to Improve Legibility and Modularity"
   ]
  },
  {
   "cell_type": "code",
   "execution_count": 8,
   "metadata": {
    "slideshow": {
     "slide_type": "-"
    }
   },
   "outputs": [
    {
     "name": "stdout",
     "output_type": "stream",
     "text": [
      "8.860022573334675\n"
     ]
    }
   ],
   "source": [
    "# Consider the following code:\n",
    "\n",
    "# You are given two points in 2-D space\n",
    "x = (1, 1)\n",
    "y = (5, 4)\n",
    "\n",
    "# Calculate the area of the circle if one of the points is the circle center \n",
    "# and the other is on the perimeter and then calculate the side of the square \n",
    "# with the same area\n",
    "r_sq = (x[0] - y[0])**2 + (x[1] - y[1])**2\n",
    "area = 3.14*r_sq\n",
    "sq_side = area**0.5\n",
    "print(sq_side)\n"
   ]
  },
  {
   "cell_type": "code",
   "execution_count": 30,
   "metadata": {
    "slideshow": {
     "slide_type": "-"
    }
   },
   "outputs": [
    {
     "name": "stdout",
     "output_type": "stream",
     "text": [
      "25 78.5 8.860022573334675\n"
     ]
    }
   ],
   "source": [
    "# Exercise 3: Rewrite the code below using functions \n",
    "# to make it easier to read.\n",
    "\n",
    "x = (1, 1)\n",
    "y = (5, 4)\n",
    "\n",
    "def get_distance(x,y):\n",
    "    '''compute the squared distance between 2 2-d points'''\n",
    "    return (x[0] - y[0])**2 + (x[1] - y[1])**2\n",
    "    \n",
    "    \n",
    "    \n",
    "def get_circle_area(r):\n",
    "    '''estimate the area of the circle with given r square of radius'''\n",
    "    return 3.14*r\n",
    "\n",
    "def get_square_sides(area):\n",
    "    '''estimate the side of the square with given area'''\n",
    "    return area**0.5\n",
    "\n",
    "r_sq = get_distance(x,y)\n",
    "area = get_circle_area(r_sq)\n",
    "sq_side = get_square_sides(area)\n",
    "\n",
    "print(r_sq, area, sq_side)\n"
   ]
  },
  {
   "cell_type": "markdown",
   "metadata": {
    "slideshow": {
     "slide_type": "slide"
    }
   },
   "source": [
    "## Using Functions Inside List Comprehensions"
   ]
  },
  {
   "cell_type": "code",
   "execution_count": 4,
   "metadata": {
    "slideshow": {
     "slide_type": "-"
    }
   },
   "outputs": [
    {
     "name": "stdout",
     "output_type": "stream",
     "text": [
      "[25, 16, 9, 4, 1, 0.0, 1.0, 1.4142135623730951, 1.7320508075688772, 2.0, 2.23606797749979]\n"
     ]
    }
   ],
   "source": [
    "def sq_or_sqrt(x):\n",
    "    '''Assumes x is numeric. Returns the square of x if x is negative\n",
    "    and the square root of x if x is nonnegative.'''\n",
    "    if x < 0:\n",
    "        return x**2\n",
    "    else:\n",
    "        return x**0.5\n",
    "\n",
    "lst = [sq_or_sqrt(i) for i in range(-5, 6)]\n",
    "print(lst)\n"
   ]
  },
  {
   "cell_type": "code",
   "execution_count": 49,
   "metadata": {
    "slideshow": {
     "slide_type": "-"
    }
   },
   "outputs": [
    {
     "name": "stdout",
     "output_type": "stream",
     "text": [
      "[None, None, 2, 178, None, 12, None, None, 12]\n",
      "[None, None, 2, 178, None, 12, None, None, 12, None, None, 2, 178, None, 12, None, None, 12]\n"
     ]
    }
   ],
   "source": [
    "# Exercise 4: Using a function and a list comprehension, \n",
    "# create a new list that has the numbers from testlist \n",
    "# if they are positive and None otherwise\n",
    "\n",
    "testlist = [-1, 0, 2, 178, -17.2, 12, -2, -3, 12]\n",
    "new_list = []\n",
    "def q5_po(alist):\n",
    "    for i in alist:\n",
    "        if i > 0:\n",
    "            new_list.append(i)\n",
    "        else:\n",
    "            new_list.append(None)\n",
    "            \n",
    "    return new_list\n",
    "\n",
    "\n",
    "print(q5_po(testlist))\n",
    "print(q5_po(testlist))\n",
    "\n",
    "#check whether i can rerun\n"
   ]
  },
  {
   "cell_type": "code",
   "execution_count": 2,
   "metadata": {},
   "outputs": [
    {
     "ename": "IndentationError",
     "evalue": "expected an indented block (<ipython-input-2-f96b99e045d8>, line 10)",
     "output_type": "error",
     "traceback": [
      "\u001b[1;36m  File \u001b[1;32m\"<ipython-input-2-f96b99e045d8>\"\u001b[1;36m, line \u001b[1;32m10\u001b[0m\n\u001b[1;33m    print([q5_pos(n) for n in testlist])\u001b[0m\n\u001b[1;37m                                        ^\u001b[0m\n\u001b[1;31mIndentationError\u001b[0m\u001b[1;31m:\u001b[0m expected an indented block\n"
     ]
    }
   ],
   "source": [
    "\n",
    "testlist = [-1, 0, 2, 178, -17.2, 12, -2, -3, 12]\n",
    "\n",
    "def q5_pos(num):\n",
    "    if num > 0:\n",
    "        return num\n",
    "    else: \n",
    "              \n",
    "\n",
    "\n",
    "print([q5_pos(n) for n in testlist])\n"
   ]
  },
  {
   "cell_type": "code",
   "execution_count": 41,
   "metadata": {
    "slideshow": {
     "slide_type": "-"
    }
   },
   "outputs": [
    {
     "data": {
      "text/plain": [
       "[None, 0.0, None, 89.0, -1.4333333333333333, 24.0, None, -12.0, None]"
      ]
     },
     "execution_count": 41,
     "metadata": {},
     "output_type": "execute_result"
    }
   ],
   "source": [
    "# Exercise 5: Using a function and a list comprehension, create \n",
    "# a new list that includes the result from dividing each number \n",
    "# from testlist1 by the corresponding number in testlist2; \n",
    "# For the cases when the divisor is 0, the new list should include None\n",
    "\n",
    "testlist1 = [-1, 0, 2, 178, -17.2, 12, -2, -3, 12]\n",
    "testlist2 = [0, 5, 0, 2, 12, 0.5, 0, 0.25, 0]\n",
    "\n",
    "\n",
    "def q6(x, y):\n",
    "    if y == 0:\n",
    "        return None\n",
    "    return x / y\n",
    "\n",
    "q6(1,2)\n",
    "\n",
    "\n",
    "[q6(testlist1[i],testlist2[i]) for i in range(len(testlist1))]\n"
   ]
  },
  {
   "cell_type": "markdown",
   "metadata": {
    "slideshow": {
     "slide_type": "slide"
    }
   },
   "source": [
    "## Using Functions For General Cases"
   ]
  },
  {
   "cell_type": "code",
   "execution_count": 7,
   "metadata": {
    "collapsed": true,
    "slideshow": {
     "slide_type": "-"
    }
   },
   "outputs": [],
   "source": [
    "# Exercise 6: Write a Python function that checks if a string \n",
    "# is a palindrome. A palindrome is a word or a phrase that reads \n",
    "# the same backward as forward. For example, redder, nurses run, dad...\n",
    "\n"
   ]
  }
 ],
 "metadata": {
  "celltoolbar": "Slideshow",
  "kernelspec": {
   "display_name": "Python 3",
   "language": "python",
   "name": "python3"
  },
  "language_info": {
   "codemirror_mode": {
    "name": "ipython",
    "version": 3
   },
   "file_extension": ".py",
   "mimetype": "text/x-python",
   "name": "python",
   "nbconvert_exporter": "python",
   "pygments_lexer": "ipython3",
   "version": "3.7.3"
  }
 },
 "nbformat": 4,
 "nbformat_minor": 2
}
